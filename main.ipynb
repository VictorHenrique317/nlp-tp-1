{
 "cells": [
  {
   "attachments": {},
   "cell_type": "markdown",
   "metadata": {},
   "source": [
    "Dependencies"
   ]
  },
  {
   "cell_type": "code",
   "execution_count": 1,
   "metadata": {},
   "outputs": [
    {
     "name": "stdout",
     "output_type": "stream",
     "text": [
      "Defaulting to user installation because normal site-packages is not writeable\n",
      "Requirement already satisfied: gensim in /home/vip/victor.henrique/.local/lib/python3.10/site-packages (4.3.2)\n",
      "Requirement already satisfied: smart-open>=1.8.1 in /home/vip/victor.henrique/.local/lib/python3.10/site-packages (from gensim) (6.4.0)\n",
      "Requirement already satisfied: scipy>=1.7.0 in /home/vip/victor.henrique/.local/lib/python3.10/site-packages (from gensim) (1.10.1)\n",
      "Requirement already satisfied: numpy>=1.18.5 in /home/vip/victor.henrique/.local/lib/python3.10/site-packages (from gensim) (1.23.5)\n",
      "Note: you may need to restart the kernel to use updated packages.\n",
      "Defaulting to user installation because normal site-packages is not writeable\n",
      "Requirement already satisfied: nltk in /home/vip/victor.henrique/.local/lib/python3.10/site-packages (3.8.1)\n",
      "Requirement already satisfied: regex>=2021.8.3 in /home/vip/victor.henrique/.local/lib/python3.10/site-packages (from nltk) (2023.10.3)\n",
      "Requirement already satisfied: joblib in /home/vip/victor.henrique/.local/lib/python3.10/site-packages (from nltk) (1.2.0)\n",
      "Requirement already satisfied: tqdm in /home/vip/victor.henrique/.local/lib/python3.10/site-packages (from nltk) (4.66.1)\n",
      "Requirement already satisfied: click in /home/vip/victor.henrique/.local/lib/python3.10/site-packages (from nltk) (8.1.7)\n",
      "Note: you may need to restart the kernel to use updated packages.\n"
     ]
    }
   ],
   "source": [
    "%pip install gensim\n",
    "%pip install nltk\n",
    "\n",
    "from gensim.models.word2vec import LineSentence\n",
    "from gensim.models import Word2Vec\n",
    "from nltk.tokenize import word_tokenize\n",
    "from nltk.corpus import stopwords\n",
    "import nltk\n",
    "from nltk.stem import PorterStemmer\n",
    "from nltk.stem import WordNetLemmatizer\n",
    "from nltk.tokenize import word_tokenize"
   ]
  },
  {
   "attachments": {},
   "cell_type": "markdown",
   "metadata": {},
   "source": [
    "Pre-processing"
   ]
  },
  {
   "cell_type": "code",
   "execution_count": 65,
   "metadata": {},
   "outputs": [
    {
     "name": "stdout",
     "output_type": "stream",
     "text": [
      "17005207\n"
     ]
    },
    {
     "name": "stderr",
     "output_type": "stream",
     "text": [
      "[nltk_data] Downloading package stopwords to\n",
      "[nltk_data]     /home/vip/victor.henrique/nltk_data...\n",
      "[nltk_data]   Package stopwords is already up-to-date!\n"
     ]
    },
    {
     "name": "stdout",
     "output_type": "stream",
     "text": [
      "Removing stopwords...\n",
      "Lemmatizing...\n",
      "Grouping into sentences...\n"
     ]
    }
   ],
   "source": [
    "# Load the corpus\n",
    "corpus = LineSentence('corpus.txt')\n",
    "docs = [doc for doc in corpus]\n",
    "tokens = []\n",
    "for doc in docs:\n",
    "    tokens.extend(doc)\n",
    "print(len(tokens))\n",
    "\n",
    "tokens = tokens[:100] # TODO: Remove\n",
    "\n",
    "# removing stop words\n",
    "nltk.download('stopwords')\n",
    "stop_words = stopwords.words('english')\n",
    "print(\"Removing stopwords...\")\n",
    "tokens = [token for token in tokens if token not in stop_words]\n",
    "\n",
    "# lemmatizing\n",
    "print(\"Lemmatizing...\")\n",
    "lemmatizer = WordNetLemmatizer()\n",
    "tokens = [lemmatizer.lemmatize(token) for token in tokens]\n",
    "\n",
    "# grouping into sentences\n",
    "print(\"Grouping into sentences...\")\n",
    "sentences = []\n",
    "sentence = []\n",
    "counter = 0\n",
    "words_per_sentence = 10\n",
    "for token in tokens:\n",
    "    counter += 1\n",
    "    if counter > words_per_sentence:\n",
    "        sentences.append(sentence)\n",
    "        sentence = [token]\n",
    "        counter = 1\n",
    "        continue\n",
    "\n",
    "    sentence.append(token)\n",
    "\n",
    "print(len(tokens))\n",
    "print(sentences)"
   ]
  },
  {
   "attachments": {},
   "cell_type": "markdown",
   "metadata": {},
   "source": [
    "Word2vec model"
   ]
  },
  {
   "cell_type": "code",
   "execution_count": 41,
   "metadata": {},
   "outputs": [
    {
     "name": "stdout",
     "output_type": "stream",
     "text": [
      "Training model...\n"
     ]
    }
   ],
   "source": [
    "print(\"Training model...\")\n",
    "model = Word2Vec(sentences=sentences, vector_size=100, window=5, min_count=1, workers=8)"
   ]
  },
  {
   "attachments": {},
   "cell_type": "markdown",
   "metadata": {},
   "source": [
    "Evaluation"
   ]
  },
  {
   "cell_type": "code",
   "execution_count": 64,
   "metadata": {},
   "outputs": [
    {
     "name": "stdout",
     "output_type": "stream",
     "text": [
      "1.0615396425127983\n",
      "0.78395214676857\n"
     ]
    }
   ],
   "source": [
    "def distanceToMostSimilarWord(input_words: list, true_word: str) -> float:\n",
    "    lemmatized_words = []\n",
    "    for word in input_words:\n",
    "        word = lemmatizer.lemmatize(word)\n",
    "        lemmatized_words.append(word)\n",
    "\n",
    "    similar_words = model.wv.most_similar(lemmatized_words)\n",
    "    most_similar_word = similar_words[0][0]\n",
    "    \n",
    "    return model.wv.distance(lemmatizer.lemmatize(true_word), most_similar_word)\n",
    "\n",
    "print(distanceToMostSimilarWord([\"french\"], \"revolution\"))\n",
    "print(distanceToMostSimilarWord([\"culottes\"], \"culottes\"))"
   ]
  }
 ],
 "metadata": {
  "kernelspec": {
   "display_name": "Python 3",
   "language": "python",
   "name": "python3"
  },
  "language_info": {
   "codemirror_mode": {
    "name": "ipython",
    "version": 3
   },
   "file_extension": ".py",
   "mimetype": "text/x-python",
   "name": "python",
   "nbconvert_exporter": "python",
   "pygments_lexer": "ipython3",
   "version": "3.10.12"
  },
  "orig_nbformat": 4
 },
 "nbformat": 4,
 "nbformat_minor": 2
}

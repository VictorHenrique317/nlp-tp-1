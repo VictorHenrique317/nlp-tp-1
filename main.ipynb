{
 "cells": [
  {
   "attachments": {},
   "cell_type": "markdown",
   "metadata": {},
   "source": [
    "Dependencies"
   ]
  },
  {
   "cell_type": "code",
   "execution_count": 1,
   "metadata": {},
   "outputs": [
    {
     "name": "stdout",
     "output_type": "stream",
     "text": [
      "Defaulting to user installation because normal site-packages is not writeable\n",
      "Requirement already satisfied: gensim in /home/vip/victor.henrique/.local/lib/python3.10/site-packages (4.3.2)\n",
      "Requirement already satisfied: smart-open>=1.8.1 in /home/vip/victor.henrique/.local/lib/python3.10/site-packages (from gensim) (6.4.0)\n",
      "Requirement already satisfied: scipy>=1.7.0 in /home/vip/victor.henrique/.local/lib/python3.10/site-packages (from gensim) (1.10.1)\n",
      "Requirement already satisfied: numpy>=1.18.5 in /home/vip/victor.henrique/.local/lib/python3.10/site-packages (from gensim) (1.23.5)\n",
      "Note: you may need to restart the kernel to use updated packages.\n",
      "Defaulting to user installation because normal site-packages is not writeable\n",
      "Requirement already satisfied: nltk in /home/vip/victor.henrique/.local/lib/python3.10/site-packages (3.8.1)\n",
      "Requirement already satisfied: click in /home/vip/victor.henrique/.local/lib/python3.10/site-packages (from nltk) (8.1.7)\n",
      "Requirement already satisfied: tqdm in /home/vip/victor.henrique/.local/lib/python3.10/site-packages (from nltk) (4.66.1)\n",
      "Requirement already satisfied: joblib in /home/vip/victor.henrique/.local/lib/python3.10/site-packages (from nltk) (1.2.0)\n",
      "Requirement already satisfied: regex>=2021.8.3 in /home/vip/victor.henrique/.local/lib/python3.10/site-packages (from nltk) (2023.10.3)\n",
      "Note: you may need to restart the kernel to use updated packages.\n"
     ]
    }
   ],
   "source": [
    "%pip install gensim\n",
    "%pip install nltk\n",
    "\n",
    "from gensim.models.word2vec import LineSentence\n",
    "from gensim.models import Word2Vec\n",
    "from nltk.tokenize import word_tokenize\n",
    "from nltk.corpus import stopwords\n",
    "import nltk\n",
    "import random\n",
    "from nltk.stem import PorterStemmer\n",
    "from nltk.stem import WordNetLemmatizer\n",
    "from nltk.tokenize import word_tokenize"
   ]
  },
  {
   "attachments": {},
   "cell_type": "markdown",
   "metadata": {},
   "source": [
    "Pre-processing corpus"
   ]
  },
  {
   "cell_type": "code",
   "execution_count": 32,
   "metadata": {},
   "outputs": [
    {
     "name": "stdout",
     "output_type": "stream",
     "text": [
      "17005207\n",
      "Lowercasing...\n"
     ]
    },
    {
     "name": "stderr",
     "output_type": "stream",
     "text": [
      "[nltk_data] Downloading package stopwords to\n",
      "[nltk_data]     /home/vip/victor.henrique/nltk_data...\n",
      "[nltk_data]   Package stopwords is already up-to-date!\n"
     ]
    },
    {
     "name": "stdout",
     "output_type": "stream",
     "text": [
      "Removing stopwords...\n",
      "Lemmatizing...\n",
      "Grouping into sentences...\n",
      "10890638\n"
     ]
    }
   ],
   "source": [
    "def preprocessWord(word):\n",
    "    word = word.lower().strip()\n",
    "    \n",
    "    if word in stop_words:\n",
    "        return None\n",
    "    \n",
    "    word = lemmatizer.lemmatize(word)\n",
    "\n",
    "    return word\n",
    "\n",
    "# Load the corpus\n",
    "corpus = LineSentence('corpus.txt')\n",
    "docs = [doc for doc in corpus]\n",
    "tokens = []\n",
    "for doc in docs:\n",
    "    tokens.extend(doc)\n",
    "print(len(tokens))\n",
    "\n",
    "nltk.download('stopwords')\n",
    "stop_words = stopwords.words('english')\n",
    "lemmatizer = WordNetLemmatizer()\n",
    "\n",
    "print(\"Lowercasing...\")\n",
    "tokens = [token.lower() for token in tokens]\n",
    "\n",
    "print(\"Removing stopwords...\")\n",
    "tokens = [token for token in tokens if token not in stop_words]\n",
    "\n",
    "print(\"Lemmatizing...\")\n",
    "tokens = [lemmatizer.lemmatize(token) for token in tokens]\n",
    "\n",
    "print(\"Grouping into sentences...\")\n",
    "sentences = []\n",
    "sentence = []\n",
    "counter = 0\n",
    "words_per_sentence = 10\n",
    "for token in tokens:\n",
    "    counter += 1\n",
    "    if counter > words_per_sentence:\n",
    "        sentences.append(sentence)\n",
    "        sentence = [token]\n",
    "        counter = 1\n",
    "        continue\n",
    "\n",
    "    sentence.append(token)\n",
    "\n",
    "print(len(tokens))\n",
    "with open('sentences.txt', 'w') as f:\n",
    "    for sentence in sentences:\n",
    "        f.write(' '.join(sentence) + '\\n')"
   ]
  },
  {
   "attachments": {},
   "cell_type": "markdown",
   "metadata": {},
   "source": [
    "Filtering out unknown words from evaluation set and sampling it"
   ]
  },
  {
   "cell_type": "code",
   "execution_count": 55,
   "metadata": {},
   "outputs": [],
   "source": [
    "def getAnalogiesForModel(model):\n",
    "    final_analogies = []\n",
    "    with open(\"questions-words.txt\") as f:\n",
    "        for line in f:\n",
    "            if line.startswith(\":\"):\n",
    "                continue\n",
    "\n",
    "            line = line.split()\n",
    "            words = line[:3]\n",
    "            words = [preprocessWord(word) for word in words if preprocessWord(word) is not None]\n",
    "            target = preprocessWord(line[3])\n",
    "\n",
    "            if target not in dummy_model.wv or target is None:\n",
    "                continue\n",
    "            \n",
    "            final_words = []\n",
    "            for word in words:\n",
    "                if word in dummy_model.wv:\n",
    "                    final_words.append(word)\n",
    "\n",
    "            if len(final_words) == 0:\n",
    "                continue\n",
    "\n",
    "            final_analogies.append(final_words + [target])\n",
    "\n",
    "    # Randomly truncate the analogies\n",
    "    random.shuffle(final_analogies)\n",
    "    final_analogies = final_analogies[:500]\n",
    "    return final_analogies"
   ]
  },
  {
   "attachments": {},
   "cell_type": "markdown",
   "metadata": {},
   "source": [
    "Defining evaluation procedure"
   ]
  },
  {
   "cell_type": "code",
   "execution_count": 56,
   "metadata": {},
   "outputs": [],
   "source": [
    "def distanceToMostSimilarWord(input_words: list, true_word: str) -> float:\n",
    "    similar_words = model.wv.most_similar(input_words)\n",
    "    most_similar_word = similar_words[0][0]\n",
    "    return model.wv.distance(true_word, most_similar_word)\n",
    "\n",
    "def evaluateModel(model):\n",
    "    analogies = getAnalogiesForModel(model)\n",
    "    nb_lines = len(analogies)\n",
    "    avg_distance = 0\n",
    "    counter = 0\n",
    "    for analogy in analogies:\n",
    "        counter += 1\n",
    "        words = analogy[:-1]\n",
    "        target = analogy[-1]\n",
    "\n",
    "        distance = distanceToMostSimilarWord(words, target)\n",
    "        avg_distance += distance\n",
    "\n",
    "        job_percentage = 100*(counter/nb_lines)\n",
    "        # print(f\"{job_percentage: .2f}%...\", end=\"\\r\")\n",
    "\n",
    "    avg_distance = avg_distance / counter\n",
    "    # print(f\"Average distance: {avg_distance: .2f}\")\n",
    "    return avg_distance"
   ]
  },
  {
   "cell_type": "code",
   "execution_count": null,
   "metadata": {},
   "outputs": [],
   "source": [
    "print(\"Training model...\")\n",
    "model = Word2Vec(sentences=sentences, vector_size=100, window=5, min_count=1, workers=8)"
   ]
  }
 ],
 "metadata": {
  "kernelspec": {
   "display_name": "Python 3",
   "language": "python",
   "name": "python3"
  },
  "language_info": {
   "codemirror_mode": {
    "name": "ipython",
    "version": 3
   },
   "file_extension": ".py",
   "mimetype": "text/x-python",
   "name": "python",
   "nbconvert_exporter": "python",
   "pygments_lexer": "ipython3",
   "version": "3.10.12"
  },
  "orig_nbformat": 4
 },
 "nbformat": 4,
 "nbformat_minor": 2
}

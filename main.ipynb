{
 "cells": [
  {
   "attachments": {},
   "cell_type": "markdown",
   "metadata": {},
   "source": [
    "Dependencies"
   ]
  },
  {
   "cell_type": "code",
   "execution_count": 1,
   "metadata": {},
   "outputs": [
    {
     "name": "stdout",
     "output_type": "stream",
     "text": [
      "Defaulting to user installation because normal site-packages is not writeable\n",
      "Requirement already satisfied: gensim in /home/vip/victor.henrique/.local/lib/python3.10/site-packages (4.3.2)\n",
      "Requirement already satisfied: smart-open>=1.8.1 in /home/vip/victor.henrique/.local/lib/python3.10/site-packages (from gensim) (6.4.0)\n",
      "Requirement already satisfied: scipy>=1.7.0 in /home/vip/victor.henrique/.local/lib/python3.10/site-packages (from gensim) (1.10.1)\n",
      "Requirement already satisfied: numpy>=1.18.5 in /home/vip/victor.henrique/.local/lib/python3.10/site-packages (from gensim) (1.23.5)\n",
      "Note: you may need to restart the kernel to use updated packages.\n",
      "Defaulting to user installation because normal site-packages is not writeable\n",
      "Requirement already satisfied: nltk in /home/vip/victor.henrique/.local/lib/python3.10/site-packages (3.8.1)\n",
      "Requirement already satisfied: regex>=2021.8.3 in /home/vip/victor.henrique/.local/lib/python3.10/site-packages (from nltk) (2023.10.3)\n",
      "Requirement already satisfied: joblib in /home/vip/victor.henrique/.local/lib/python3.10/site-packages (from nltk) (1.2.0)\n",
      "Requirement already satisfied: tqdm in /home/vip/victor.henrique/.local/lib/python3.10/site-packages (from nltk) (4.66.1)\n",
      "Requirement already satisfied: click in /home/vip/victor.henrique/.local/lib/python3.10/site-packages (from nltk) (8.1.7)\n",
      "Note: you may need to restart the kernel to use updated packages.\n"
     ]
    }
   ],
   "source": [
    "%pip install gensim\n",
    "%pip install nltk\n",
    "\n",
    "from gensim.models.word2vec import LineSentence\n",
    "from gensim.models import Word2Vec\n",
    "from nltk.tokenize import word_tokenize\n",
    "from nltk.corpus import stopwords\n",
    "import nltk\n",
    "from nltk.stem import PorterStemmer\n",
    "from nltk.stem import WordNetLemmatizer\n",
    "from nltk.tokenize import word_tokenize"
   ]
  },
  {
   "attachments": {},
   "cell_type": "markdown",
   "metadata": {},
   "source": [
    "Pre-processing"
   ]
  },
  {
   "cell_type": "code",
   "execution_count": 26,
   "metadata": {},
   "outputs": [
    {
     "name": "stdout",
     "output_type": "stream",
     "text": [
      "17005207\n",
      "Removing stopwords...\n"
     ]
    },
    {
     "name": "stderr",
     "output_type": "stream",
     "text": [
      "[nltk_data] Downloading package stopwords to\n",
      "[nltk_data]     /home/vip/victor.henrique/nltk_data...\n",
      "[nltk_data]   Package stopwords is already up-to-date!\n"
     ]
    },
    {
     "name": "stdout",
     "output_type": "stream",
     "text": [
      "Lemmatizing...\n",
      "Grouping into sentences...\n",
      "10890638\n"
     ]
    }
   ],
   "source": [
    "# Load the corpus\n",
    "corpus = LineSentence('corpus.txt')\n",
    "docs = [doc for doc in corpus]\n",
    "tokens = []\n",
    "for doc in docs:\n",
    "    tokens.extend(doc)\n",
    "print(len(tokens))\n",
    "\n",
    "# tokens = tokens[:10_000_000] # TODO: Remove\n",
    "# 1_000_000 tokens é um tempo OK\n",
    "\n",
    "# removing stop words\n",
    "nltk.download('stopwords')\n",
    "stop_words = stopwords.words('english')\n",
    "print(\"Removing stopwords...\")\n",
    "tokens = [token for token in tokens if token not in stop_words]\n",
    "\n",
    "# lemmatizing\n",
    "print(\"Lemmatizing...\")\n",
    "lemmatizer = WordNetLemmatizer()\n",
    "tokens = [lemmatizer.lemmatize(token) for token in tokens]\n",
    "\n",
    "# grouping into sentences\n",
    "print(\"Grouping into sentences...\")\n",
    "sentences = []\n",
    "sentence = []\n",
    "counter = 0\n",
    "words_per_sentence = 10\n",
    "for token in tokens:\n",
    "    counter += 1\n",
    "    if counter > words_per_sentence:\n",
    "        sentences.append(sentence)\n",
    "        sentence = [token]\n",
    "        counter = 1\n",
    "        continue\n",
    "\n",
    "    sentence.append(token)\n",
    "\n",
    "print(len(tokens))"
   ]
  },
  {
   "attachments": {},
   "cell_type": "markdown",
   "metadata": {},
   "source": [
    "Word2vec model"
   ]
  },
  {
   "cell_type": "code",
   "execution_count": 24,
   "metadata": {},
   "outputs": [
    {
     "name": "stdout",
     "output_type": "stream",
     "text": [
      "Training model...\n"
     ]
    }
   ],
   "source": [
    "print(\"Training model...\")\n",
    "model = Word2Vec(sentences=sentences, vector_size=100, window=5, min_count=1, workers=8)"
   ]
  },
  {
   "attachments": {},
   "cell_type": "markdown",
   "metadata": {},
   "source": [
    "Evaluation"
   ]
  },
  {
   "cell_type": "code",
   "execution_count": 34,
   "metadata": {},
   "outputs": [
    {
     "name": "stdout",
     "output_type": "stream",
     "text": [
      "['Athens', 'Greece', 'Baghdad']\n"
     ]
    },
    {
     "ename": "KeyError",
     "evalue": "\"Key 'Athens' not present in vocabulary\"",
     "output_type": "error",
     "traceback": [
      "\u001b[0;31m---------------------------------------------------------------------------\u001b[0m",
      "\u001b[0;31mKeyError\u001b[0m                                  Traceback (most recent call last)",
      "Cell \u001b[0;32mIn[34], line 21\u001b[0m\n\u001b[1;32m     19\u001b[0m words \u001b[39m=\u001b[39m line\u001b[39m.\u001b[39msplit()\n\u001b[1;32m     20\u001b[0m \u001b[39mprint\u001b[39m(words[:\u001b[39m3\u001b[39m])\n\u001b[0;32m---> 21\u001b[0m \u001b[39mprint\u001b[39m(distanceToMostSimilarWord(words[:\u001b[39m3\u001b[39;49m], words[\u001b[39m3\u001b[39;49m]))\n\u001b[1;32m     22\u001b[0m \u001b[39mbreak\u001b[39;00m\n",
      "Cell \u001b[0;32mIn[34], line 7\u001b[0m, in \u001b[0;36mdistanceToMostSimilarWord\u001b[0;34m(input_words, true_word)\u001b[0m\n\u001b[1;32m      4\u001b[0m     word \u001b[39m=\u001b[39m lemmatizer\u001b[39m.\u001b[39mlemmatize(word)\n\u001b[1;32m      5\u001b[0m     lemmatized_words\u001b[39m.\u001b[39mappend(word)\n\u001b[0;32m----> 7\u001b[0m similar_words \u001b[39m=\u001b[39m model\u001b[39m.\u001b[39;49mwv\u001b[39m.\u001b[39;49mmost_similar(lemmatized_words)\n\u001b[1;32m      8\u001b[0m most_similar_word \u001b[39m=\u001b[39m similar_words[\u001b[39m0\u001b[39m][\u001b[39m0\u001b[39m]\n\u001b[1;32m      9\u001b[0m \u001b[39mprint\u001b[39m(most_similar_word)\n",
      "File \u001b[0;32m~/.local/lib/python3.10/site-packages/gensim/models/keyedvectors.py:841\u001b[0m, in \u001b[0;36mKeyedVectors.most_similar\u001b[0;34m(self, positive, negative, topn, clip_start, clip_end, restrict_vocab, indexer)\u001b[0m\n\u001b[1;32m    838\u001b[0m         weight[idx] \u001b[39m=\u001b[39m item[\u001b[39m1\u001b[39m]\n\u001b[1;32m    840\u001b[0m \u001b[39m# compute the weighted average of all keys\u001b[39;00m\n\u001b[0;32m--> 841\u001b[0m mean \u001b[39m=\u001b[39m \u001b[39mself\u001b[39;49m\u001b[39m.\u001b[39;49mget_mean_vector(keys, weight, pre_normalize\u001b[39m=\u001b[39;49m\u001b[39mTrue\u001b[39;49;00m, post_normalize\u001b[39m=\u001b[39;49m\u001b[39mTrue\u001b[39;49;00m, ignore_missing\u001b[39m=\u001b[39;49m\u001b[39mFalse\u001b[39;49;00m)\n\u001b[1;32m    842\u001b[0m all_keys \u001b[39m=\u001b[39m [\n\u001b[1;32m    843\u001b[0m     \u001b[39mself\u001b[39m\u001b[39m.\u001b[39mget_index(key) \u001b[39mfor\u001b[39;00m key \u001b[39min\u001b[39;00m keys \u001b[39mif\u001b[39;00m \u001b[39misinstance\u001b[39m(key, _KEY_TYPES) \u001b[39mand\u001b[39;00m \u001b[39mself\u001b[39m\u001b[39m.\u001b[39mhas_index_for(key)\n\u001b[1;32m    844\u001b[0m ]\n\u001b[1;32m    846\u001b[0m \u001b[39mif\u001b[39;00m indexer \u001b[39mis\u001b[39;00m \u001b[39mnot\u001b[39;00m \u001b[39mNone\u001b[39;00m \u001b[39mand\u001b[39;00m \u001b[39misinstance\u001b[39m(topn, \u001b[39mint\u001b[39m):\n",
      "File \u001b[0;32m~/.local/lib/python3.10/site-packages/gensim/models/keyedvectors.py:518\u001b[0m, in \u001b[0;36mKeyedVectors.get_mean_vector\u001b[0;34m(self, keys, weights, pre_normalize, post_normalize, ignore_missing)\u001b[0m\n\u001b[1;32m    516\u001b[0m         total_weight \u001b[39m+\u001b[39m\u001b[39m=\u001b[39m \u001b[39mabs\u001b[39m(weights[idx])\n\u001b[1;32m    517\u001b[0m     \u001b[39melif\u001b[39;00m \u001b[39mnot\u001b[39;00m ignore_missing:\n\u001b[0;32m--> 518\u001b[0m         \u001b[39mraise\u001b[39;00m \u001b[39mKeyError\u001b[39;00m(\u001b[39mf\u001b[39m\u001b[39m\"\u001b[39m\u001b[39mKey \u001b[39m\u001b[39m'\u001b[39m\u001b[39m{\u001b[39;00mkey\u001b[39m}\u001b[39;00m\u001b[39m'\u001b[39m\u001b[39m not present in vocabulary\u001b[39m\u001b[39m\"\u001b[39m)\n\u001b[1;32m    520\u001b[0m \u001b[39mif\u001b[39;00m total_weight \u001b[39m>\u001b[39m \u001b[39m0\u001b[39m:\n\u001b[1;32m    521\u001b[0m     mean \u001b[39m=\u001b[39m mean \u001b[39m/\u001b[39m total_weight\n",
      "\u001b[0;31mKeyError\u001b[0m: \"Key 'Athens' not present in vocabulary\""
     ]
    }
   ],
   "source": [
    "def distanceToMostSimilarWord(input_words: list, true_word: str) -> float:\n",
    "    lemmatized_words = []\n",
    "    for word in input_words:\n",
    "        word = lemmatizer.lemmatize(word)\n",
    "\n",
    "        if word not in model.wv:\n",
    "        lemmatized_words.append(word)\n",
    "\n",
    "\n",
    "    similar_words = model.wv.most_similar(lemmatized_words)\n",
    "    most_similar_word = similar_words[0][0]\n",
    "    print(most_similar_word)\n",
    "    return model.wv.distance(lemmatizer.lemmatize(true_word), most_similar_word)\n",
    "\n",
    "# print(distanceToMostSimilarWord([\"king\"], \"egg\"))\n",
    "# print(distanceToMostSimilarWord([\"culottes\"], \"culottes\"))\n",
    "\n",
    "with open(\"questions-words.txt\") as f:\n",
    "    for line in f:\n",
    "        if line.startswith(\":\"):\n",
    "            continue\n",
    "        words = line.split()\n",
    "        print(words[:3])\n",
    "        print(distanceToMostSimilarWord(words[:3], words[3]))\n",
    "        break"
   ]
  }
 ],
 "metadata": {
  "kernelspec": {
   "display_name": "Python 3",
   "language": "python",
   "name": "python3"
  },
  "language_info": {
   "codemirror_mode": {
    "name": "ipython",
    "version": 3
   },
   "file_extension": ".py",
   "mimetype": "text/x-python",
   "name": "python",
   "nbconvert_exporter": "python",
   "pygments_lexer": "ipython3",
   "version": "3.10.12"
  },
  "orig_nbformat": 4
 },
 "nbformat": 4,
 "nbformat_minor": 2
}
